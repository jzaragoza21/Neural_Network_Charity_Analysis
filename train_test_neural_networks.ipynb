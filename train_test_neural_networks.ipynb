{
 "cells": [
  {
   "cell_type": "code",
   "execution_count": 1,
   "id": "440c68b5",
   "metadata": {},
   "outputs": [
    {
     "name": "stdout",
     "output_type": "stream",
     "text": [
      "2.0.0\n"
     ]
    }
   ],
   "source": [
    "import tensorflow; print(tensorflow.__version__)"
   ]
  },
  {
   "cell_type": "code",
   "execution_count": 2,
   "id": "f9d86262",
   "metadata": {},
   "outputs": [],
   "source": [
    "import pandas as pd\n",
    "import matplotlib as plt\n",
    "from sklearn.datasets import make_blobs\n",
    "import sklearn as skl\n",
    "import tensorflow as tf"
   ]
  },
  {
   "cell_type": "code",
   "execution_count": 3,
   "id": "f4859066",
   "metadata": {},
   "outputs": [
    {
     "data": {
      "text/plain": [
       "<AxesSubplot:xlabel='Feature 1', ylabel='Feature 2'>"
      ]
     },
     "execution_count": 3,
     "metadata": {},
     "output_type": "execute_result"
    },
    {
     "data": {
      "image/png": "[encoded data removed]",
      "text/plain": [
       "<Figure size 432x288 with 2 Axes>"
      ]
     },
     "metadata": {
      "needs_background": "light"
     },
     "output_type": "display_data"
    }
   ],
   "source": [
    "# Generate dummy dataset\n",
    "X, y = make_blobs(n_samples=1000, centers=2, n_features=2, random_state=78)\n",
    "\n",
    "# Creating a DataFrame with the dummy data\n",
    "df = pd.DataFrame(X, columns=[\"Feature 1\", \"Feature 2\"])\n",
    "df[\"Target\"] = y\n",
    "\n",
    "# Plotting the dummy data\n",
    "df.plot.scatter(x=\"Feature 1\", y=\"Feature 2\", c=\"Target\", colormap=\"winter\")"
   ]
  },
  {
   "cell_type": "code",
   "execution_count": 4,
   "id": "4331a42b",
   "metadata": {},
   "outputs": [],
   "source": [
    "# Use sklearn to split dataset\n",
    "from sklearn.model_selection import train_test_split\n",
    "X_train, X_test, y_train, y_test = train_test_split(X, y, random_state=78)"
   ]
  },
  {
   "cell_type": "code",
   "execution_count": 5,
   "id": "f7b412bb",
   "metadata": {},
   "outputs": [],
   "source": [
    "# Create scaler instance\n",
    "X_scaler = skl.preprocessing.StandardScaler()\n",
    "\n",
    "# Fit the scaler\n",
    "X_scaler.fit(X_train)\n",
    "\n",
    "# Scale the data\n",
    "X_train_scaled = X_scaler.transform(X_train)\n",
    "X_test_scaled = X_scaler.transform(X_test)"
   ]
  },
  {
   "cell_type": "code",
   "execution_count": 6,
   "id": "559e9c9f",
   "metadata": {},
   "outputs": [],
   "source": [
    "# Create the Keras Sequential model\n",
    "nn_model = tf.keras.models.Sequential()"
   ]
  },
  {
   "cell_type": "code",
   "execution_count": 7,
   "id": "af6041d5",
   "metadata": {},
   "outputs": [
    {
     "name": "stderr",
     "output_type": "stream",
     "text": [
      "2022-01-24 16:06:05.672362: I tensorflow/core/platform/cpu_feature_guard.cc:145] This TensorFlow binary is optimized with Intel(R) MKL-DNN to use the following CPU instructions in performance critical operations:  SSE4.1 SSE4.2 AVX AVX2 FMA\n",
      "To enable them in non-MKL-DNN operations, rebuild TensorFlow with the appropriate compiler flags.\n",
      "2022-01-24 16:06:05.672812: I tensorflow/core/common_runtime/process_util.cc:115] Creating new thread pool with default inter op setting: 4. Tune using inter_op_parallelism_threads for best performance.\n"
     ]
    }
   ],
   "source": [
    "# Add our first Dense layer, including the input layer\n",
    "nn_model.add(tf.keras.layers.Dense(units=1, activation=\"relu\", input_dim=2))"
   ]
  },
  {
   "cell_type": "code",
   "execution_count": 8,
   "id": "13345567",
   "metadata": {},
   "outputs": [],
   "source": [
    "# Add the output layer that uses a probability activation function\n",
    "nn_model.add(tf.keras.layers.Dense(units=1, activation=\"sigmoid\"))"
   ]
  },
  {
   "cell_type": "code",
   "execution_count": 9,
   "id": "acddc88f",
   "metadata": {},
   "outputs": [
    {
     "name": "stdout",
     "output_type": "stream",
     "text": [
      "Model: \"sequential\"\n",
      "_________________________________________________________________\n",
      "Layer (type)                 Output Shape              Param #   \n",
      "=================================================================\n",
      "dense (Dense)                (None, 1)                 3         \n",
      "_________________________________________________________________\n",
      "dense_1 (Dense)              (None, 1)                 2         \n",
      "=================================================================\n",
      "Total params: 5\n",
      "Trainable params: 5\n",
      "Non-trainable params: 0\n",
      "_________________________________________________________________\n"
     ]
    }
   ],
   "source": [
    "# Check the structure of the Sequential model\n",
    "nn_model.summary()"
   ]
  },
  {
   "cell_type": "code",
   "execution_count": 10,
   "id": "b2078d45",
   "metadata": {},
   "outputs": [],
   "source": [
    "# Compile the Sequential model together and customize metrics\n",
    "nn_model.compile(loss=\"binary_crossentropy\", optimizer=\"adam\", metrics=[\"accuracy\"])"
   ]
  },
  {
   "cell_type": "code",
   "execution_count": 11,
   "id": "af165c47",
   "metadata": {},
   "outputs": [
    {
     "name": "stdout",
     "output_type": "stream",
     "text": [
      "Train on 750 samples\n",
      "Epoch 1/100\n",
      "750/750 [==============================] - 2s 2ms/sample - loss: 0.9629 - accuracy: 0.2613\n",
      "Epoch 2/100\n",
      "750/750 [==============================] - 0s 130us/sample - loss: 0.9281 - accuracy: 0.2747\n",
      "Epoch 3/100\n",
      "750/750 [==============================] - 0s 131us/sample - loss: 0.8969 - accuracy: 0.2907\n",
      "Epoch 4/100\n",
      "750/750 [==============================] - 0s 150us/sample - loss: 0.8690 - accuracy: 0.3107\n",
      "Epoch 5/100\n",
      "750/750 [==============================] - 0s 128us/sample - loss: 0.8436 - accuracy: 0.3320\n",
      "Epoch 6/100\n",
      "750/750 [==============================] - 0s 132us/sample - loss: 0.8217 - accuracy: 0.3493\n",
      "Epoch 7/100\n",
      "750/750 [==============================] - 0s 131us/sample - loss: 0.8025 - accuracy: 0.3613\n",
      "Epoch 8/100\n",
      "750/750 [==============================] - 0s 116us/sample - loss: 0.7854 - accuracy: 0.3747\n",
      "Epoch 9/100\n",
      "750/750 [==============================] - 0s 124us/sample - loss: 0.7697 - accuracy: 0.3853\n",
      "Epoch 10/100\n",
      "750/750 [==============================] - 0s 128us/sample - loss: 0.7556 - accuracy: 0.4013\n",
      "Epoch 11/100\n",
      "750/750 [==============================] - 0s 136us/sample - loss: 0.7430 - accuracy: 0.4213\n",
      "Epoch 12/100\n",
      "750/750 [==============================] - 0s 147us/sample - loss: 0.7316 - accuracy: 0.4533\n",
      "Epoch 13/100\n",
      "750/750 [==============================] - 0s 128us/sample - loss: 0.7216 - accuracy: 0.4627\n",
      "Epoch 14/100\n",
      "750/750 [==============================] - 0s 135us/sample - loss: 0.7129 - accuracy: 0.4733\n",
      "Epoch 15/100\n",
      "750/750 [==============================] - 0s 127us/sample - loss: 0.7052 - accuracy: 0.4920\n",
      "Epoch 16/100\n",
      "750/750 [==============================] - 0s 192us/sample - loss: 0.6981 - accuracy: 0.5067\n",
      "Epoch 17/100\n",
      "750/750 [==============================] - 0s 117us/sample - loss: 0.6918 - accuracy: 0.5267\n",
      "Epoch 18/100\n",
      "750/750 [==============================] - 0s 130us/sample - loss: 0.6857 - accuracy: 0.5467\n",
      "Epoch 19/100\n",
      "750/750 [==============================] - 0s 117us/sample - loss: 0.6800 - accuracy: 0.5693\n",
      "Epoch 20/100\n",
      "750/750 [==============================] - 0s 126us/sample - loss: 0.6747 - accuracy: 0.5813\n",
      "Epoch 21/100\n",
      "750/750 [==============================] - 0s 115us/sample - loss: 0.6698 - accuracy: 0.5840\n",
      "Epoch 22/100\n",
      "750/750 [==============================] - 0s 137us/sample - loss: 0.6647 - accuracy: 0.5960\n",
      "Epoch 23/100\n",
      "750/750 [==============================] - 0s 180us/sample - loss: 0.6597 - accuracy: 0.6120\n",
      "Epoch 24/100\n",
      "750/750 [==============================] - 0s 130us/sample - loss: 0.6545 - accuracy: 0.6227\n",
      "Epoch 25/100\n",
      "750/750 [==============================] - 0s 126us/sample - loss: 0.6490 - accuracy: 0.6440\n",
      "Epoch 26/100\n",
      "750/750 [==============================] - 0s 130us/sample - loss: 0.6432 - accuracy: 0.6640\n",
      "Epoch 27/100\n",
      "750/750 [==============================] - 0s 128us/sample - loss: 0.6368 - accuracy: 0.6787\n",
      "Epoch 28/100\n",
      "750/750 [==============================] - 0s 159us/sample - loss: 0.6299 - accuracy: 0.7000\n",
      "Epoch 29/100\n",
      "750/750 [==============================] - 0s 135us/sample - loss: 0.6222 - accuracy: 0.7227\n",
      "Epoch 30/100\n",
      "750/750 [==============================] - 0s 125us/sample - loss: 0.6133 - accuracy: 0.7453\n",
      "Epoch 31/100\n",
      "750/750 [==============================] - 0s 128us/sample - loss: 0.6034 - accuracy: 0.7707\n",
      "Epoch 32/100\n",
      "750/750 [==============================] - 0s 126us/sample - loss: 0.5921 - accuracy: 0.7973\n",
      "Epoch 33/100\n",
      "750/750 [==============================] - 0s 122us/sample - loss: 0.5801 - accuracy: 0.8160\n",
      "Epoch 34/100\n",
      "750/750 [==============================] - 0s 122us/sample - loss: 0.5667 - accuracy: 0.8400\n",
      "Epoch 35/100\n",
      "750/750 [==============================] - 0s 130us/sample - loss: 0.5514 - accuracy: 0.8587\n",
      "Epoch 36/100\n",
      "750/750 [==============================] - 0s 132us/sample - loss: 0.5341 - accuracy: 0.8867\n",
      "Epoch 37/100\n",
      "750/750 [==============================] - 0s 133us/sample - loss: 0.5149 - accuracy: 0.9200\n",
      "Epoch 38/100\n",
      "750/750 [==============================] - 0s 122us/sample - loss: 0.4947 - accuracy: 0.9467\n",
      "Epoch 39/100\n",
      "750/750 [==============================] - 0s 131us/sample - loss: 0.4742 - accuracy: 0.9693\n",
      "Epoch 40/100\n",
      "750/750 [==============================] - 0s 136us/sample - loss: 0.4540 - accuracy: 0.9800\n",
      "Epoch 41/100\n",
      "750/750 [==============================] - 0s 144us/sample - loss: 0.4349 - accuracy: 0.9893\n",
      "Epoch 42/100\n",
      "750/750 [==============================] - 0s 130us/sample - loss: 0.4167 - accuracy: 0.9947\n",
      "Epoch 43/100\n",
      "750/750 [==============================] - 0s 160us/sample - loss: 0.3997 - accuracy: 0.9973\n",
      "Epoch 44/100\n",
      "750/750 [==============================] - 0s 220us/sample - loss: 0.3838 - accuracy: 0.9973\n",
      "Epoch 45/100\n",
      "750/750 [==============================] - 0s 144us/sample - loss: 0.3688 - accuracy: 0.9987\n",
      "Epoch 46/100\n",
      "750/750 [==============================] - 0s 146us/sample - loss: 0.3545 - accuracy: 0.9987\n",
      "Epoch 47/100\n",
      "750/750 [==============================] - 0s 205us/sample - loss: 0.3412 - accuracy: 1.0000\n",
      "Epoch 48/100\n",
      "750/750 [==============================] - 0s 176us/sample - loss: 0.3288 - accuracy: 1.0000\n",
      "Epoch 49/100\n",
      "750/750 [==============================] - 0s 136us/sample - loss: 0.3171 - accuracy: 1.0000\n",
      "Epoch 50/100\n",
      "750/750 [==============================] - 0s 127us/sample - loss: 0.3061 - accuracy: 1.0000\n",
      "Epoch 51/100\n",
      "750/750 [==============================] - 0s 179us/sample - loss: 0.2958 - accuracy: 1.0000\n",
      "Epoch 52/100\n",
      "750/750 [==============================] - 0s 163us/sample - loss: 0.2860 - accuracy: 1.0000\n",
      "Epoch 53/100\n",
      "750/750 [==============================] - 0s 192us/sample - loss: 0.2768 - accuracy: 1.0000\n",
      "Epoch 54/100\n",
      "750/750 [==============================] - 0s 115us/sample - loss: 0.2680 - accuracy: 1.0000\n",
      "Epoch 55/100\n",
      "750/750 [==============================] - 0s 130us/sample - loss: 0.2598 - accuracy: 1.0000\n",
      "Epoch 56/100\n",
      "750/750 [==============================] - 0s 117us/sample - loss: 0.2519 - accuracy: 1.0000\n",
      "Epoch 57/100\n",
      "750/750 [==============================] - 0s 144us/sample - loss: 0.2445 - accuracy: 1.0000\n",
      "Epoch 58/100\n",
      "750/750 [==============================] - 0s 139us/sample - loss: 0.2374 - accuracy: 1.0000\n",
      "Epoch 59/100\n",
      "750/750 [==============================] - 0s 125us/sample - loss: 0.2307 - accuracy: 1.0000\n",
      "Epoch 60/100\n",
      "750/750 [==============================] - 0s 125us/sample - loss: 0.2243 - accuracy: 1.0000\n",
      "Epoch 61/100\n",
      "750/750 [==============================] - 0s 123us/sample - loss: 0.2182 - accuracy: 1.0000\n",
      "Epoch 62/100\n",
      "750/750 [==============================] - 0s 121us/sample - loss: 0.2124 - accuracy: 1.0000\n",
      "Epoch 63/100\n",
      "750/750 [==============================] - 0s 118us/sample - loss: 0.2068 - accuracy: 1.0000\n",
      "Epoch 64/100\n",
      "750/750 [==============================] - 0s 131us/sample - loss: 0.2014 - accuracy: 1.0000\n",
      "Epoch 65/100\n",
      "750/750 [==============================] - 0s 122us/sample - loss: 0.1963 - accuracy: 1.0000\n",
      "Epoch 66/100\n",
      "750/750 [==============================] - 0s 125us/sample - loss: 0.1914 - accuracy: 1.0000\n",
      "Epoch 67/100\n",
      "750/750 [==============================] - 0s 150us/sample - loss: 0.1867 - accuracy: 1.0000\n",
      "Epoch 68/100\n",
      "750/750 [==============================] - 0s 134us/sample - loss: 0.1822 - accuracy: 1.0000\n",
      "Epoch 69/100\n",
      "750/750 [==============================] - 0s 115us/sample - loss: 0.1779 - accuracy: 1.0000\n",
      "Epoch 70/100\n",
      "750/750 [==============================] - 0s 134us/sample - loss: 0.1738 - accuracy: 1.0000\n",
      "Epoch 71/100\n",
      "750/750 [==============================] - 0s 125us/sample - loss: 0.1697 - accuracy: 1.0000\n",
      "Epoch 72/100\n",
      "750/750 [==============================] - 0s 140us/sample - loss: 0.1659 - accuracy: 1.0000\n",
      "Epoch 73/100\n",
      "750/750 [==============================] - 0s 130us/sample - loss: 0.1622 - accuracy: 1.0000\n",
      "Epoch 74/100\n",
      "750/750 [==============================] - 0s 127us/sample - loss: 0.1586 - accuracy: 1.0000\n",
      "Epoch 75/100\n",
      "750/750 [==============================] - 0s 119us/sample - loss: 0.1551 - accuracy: 1.0000\n",
      "Epoch 76/100\n",
      "750/750 [==============================] - 0s 124us/sample - loss: 0.1518 - accuracy: 1.0000\n",
      "Epoch 77/100\n",
      "750/750 [==============================] - 0s 123us/sample - loss: 0.1485 - accuracy: 1.0000\n",
      "Epoch 78/100\n"
     ]
    },
    {
     "name": "stdout",
     "output_type": "stream",
     "text": [
      "750/750 [==============================] - 0s 138us/sample - loss: 0.1454 - accuracy: 1.0000\n",
      "Epoch 79/100\n",
      "750/750 [==============================] - 0s 117us/sample - loss: 0.1424 - accuracy: 1.0000\n",
      "Epoch 80/100\n",
      "750/750 [==============================] - 0s 124us/sample - loss: 0.1395 - accuracy: 1.0000\n",
      "Epoch 81/100\n",
      "750/750 [==============================] - 0s 118us/sample - loss: 0.1366 - accuracy: 1.0000\n",
      "Epoch 82/100\n",
      "750/750 [==============================] - 0s 119us/sample - loss: 0.1339 - accuracy: 1.0000\n",
      "Epoch 83/100\n",
      "750/750 [==============================] - 0s 116us/sample - loss: 0.1312 - accuracy: 1.0000\n",
      "Epoch 84/100\n",
      "750/750 [==============================] - 0s 113us/sample - loss: 0.1287 - accuracy: 1.0000\n",
      "Epoch 85/100\n",
      "750/750 [==============================] - 0s 117us/sample - loss: 0.1261 - accuracy: 1.0000\n",
      "Epoch 86/100\n",
      "750/750 [==============================] - 0s 118us/sample - loss: 0.1237 - accuracy: 1.0000\n",
      "Epoch 87/100\n",
      "750/750 [==============================] - 0s 119us/sample - loss: 0.1213 - accuracy: 1.0000\n",
      "Epoch 88/100\n",
      "750/750 [==============================] - 0s 118us/sample - loss: 0.1190 - accuracy: 1.0000\n",
      "Epoch 89/100\n",
      "750/750 [==============================] - 0s 118us/sample - loss: 0.1168 - accuracy: 1.0000\n",
      "Epoch 90/100\n",
      "750/750 [==============================] - 0s 112us/sample - loss: 0.1147 - accuracy: 1.0000\n",
      "Epoch 91/100\n",
      "750/750 [==============================] - 0s 115us/sample - loss: 0.1125 - accuracy: 1.0000\n",
      "Epoch 92/100\n",
      "750/750 [==============================] - 0s 117us/sample - loss: 0.1105 - accuracy: 1.0000\n",
      "Epoch 93/100\n",
      "750/750 [==============================] - 0s 114us/sample - loss: 0.1085 - accuracy: 1.0000\n",
      "Epoch 94/100\n",
      "750/750 [==============================] - 0s 225us/sample - loss: 0.1066 - accuracy: 1.0000\n",
      "Epoch 95/100\n",
      "750/750 [==============================] - 0s 152us/sample - loss: 0.1047 - accuracy: 1.0000\n",
      "Epoch 96/100\n",
      "750/750 [==============================] - 0s 110us/sample - loss: 0.1028 - accuracy: 1.0000\n",
      "Epoch 97/100\n",
      "750/750 [==============================] - 0s 141us/sample - loss: 0.1010 - accuracy: 1.0000\n",
      "Epoch 98/100\n",
      "750/750 [==============================] - 0s 211us/sample - loss: 0.0993 - accuracy: 1.0000\n",
      "Epoch 99/100\n",
      "750/750 [==============================] - 0s 192us/sample - loss: 0.0976 - accuracy: 1.0000\n",
      "Epoch 100/100\n",
      "750/750 [==============================] - 0s 167us/sample - loss: 0.0959 - accuracy: 1.0000\n"
     ]
    }
   ],
   "source": [
    "# Fit the model to the training data\n",
    "fit_model = nn_model.fit(X_train_scaled, y_train, epochs=100)"
   ]
  },
  {
   "cell_type": "code",
   "execution_count": 12,
   "id": "3c178e3d",
   "metadata": {},
   "outputs": [
    {
     "data": {
      "text/plain": [
       "<AxesSubplot:>"
      ]
     },
     "execution_count": 12,
     "metadata": {},
     "output_type": "execute_result"
    },
    {
     "data": {
      "image/png": "[encoded data removed]",
      "text/plain": [
       "<Figure size 432x288 with 1 Axes>"
      ]
     },
     "metadata": {
      "needs_background": "light"
     },
     "output_type": "display_data"
    }
   ],
   "source": [
    "# Create a DataFrame containing training history\n",
    "history_df = pd.DataFrame(fit_model.history, index=range(1,len(fit_model.history[\"loss\"])+1))\n",
    "\n",
    "# Plot the loss\n",
    "history_df.plot(y=\"loss\")"
   ]
  },
  {
   "cell_type": "code",
   "execution_count": 13,
   "id": "6a18a046",
   "metadata": {},
   "outputs": [
    {
     "data": {
      "text/plain": [
       "<AxesSubplot:>"
      ]
     },
     "execution_count": 13,
     "metadata": {},
     "output_type": "execute_result"
    },
    {
     "data": {
      "image/png": "[encoded data removed]",
      "text/plain": [
       "<Figure size 432x288 with 1 Axes>"
      ]
     },
     "metadata": {
      "needs_background": "light"
     },
     "output_type": "display_data"
    }
   ],
   "source": [
    "# Plot the accuracy\n",
    "history_df.plot(y=\"accuracy\")"
   ]
  },
  {
   "cell_type": "code",
   "execution_count": 14,
   "id": "6d8b00f0",
   "metadata": {},
   "outputs": [
    {
     "name": "stdout",
     "output_type": "stream",
     "text": [
      "250/1 - 0s - loss: 0.1005 - accuracy: 1.0000\n",
      "Loss: 0.09014459419250488, Accuracy: 1.0\n"
     ]
    }
   ],
   "source": [
    "# Evaluate the model using the test data\n",
    "model_loss, model_accuracy = nn_model.evaluate(X_test_scaled,y_test,verbose=2)\n",
    "print(f\"Loss: {model_loss}, Accuracy: {model_accuracy}\")"
   ]
  },
  {
   "cell_type": "code",
   "execution_count": 15,
   "id": "631134f4",
   "metadata": {},
   "outputs": [
    {
     "data": {
      "text/plain": [
       "array([[0],\n",
       "       [1],\n",
       "       [0],\n",
       "       [1],\n",
       "       [0],\n",
       "       [0],\n",
       "       [1],\n",
       "       [1],\n",
       "       [1],\n",
       "       [0]], dtype=int32)"
      ]
     },
     "execution_count": 15,
     "metadata": {},
     "output_type": "execute_result"
    }
   ],
   "source": [
    "# Predict the classification of a new set of blob data\n",
    "new_X, new_Y = make_blobs(n_samples=10, centers=2, n_features=2, random_state=78)\n",
    "new_X_scaled = X_scaler.transform(new_X)\n",
    "(nn_model.predict(new_X_scaled) > 0.5).astype(\"int32\")"
   ]
  },
  {
   "cell_type": "code",
   "execution_count": null,
   "id": "04c6da8f",
   "metadata": {},
   "outputs": [],
   "source": []
  }
 ],
 "metadata": {
  "kernelspec": {
   "display_name": "mlenv",
   "language": "python",
   "name": "mlenv"
  },
  "language_info": {
   "codemirror_mode": {
    "name": "ipython",
    "version": 3
   },
   "file_extension": ".py",
   "mimetype": "text/x-python",
   "name": "python",
   "nbconvert_exporter": "python",
   "pygments_lexer": "ipython3",
   "version": "3.7.7"
  }
 },
 "nbformat": 4,
 "nbformat_minor": 5
}
